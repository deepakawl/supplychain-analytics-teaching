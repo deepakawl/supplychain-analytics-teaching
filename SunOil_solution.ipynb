{
  "nbformat": 4,
  "nbformat_minor": 0,
  "metadata": {
    "colab": {
      "provenance": [],
      "authorship_tag": "ABX9TyNflElL11NSpCrlSE5muPSa",
      "include_colab_link": true
    },
    "kernelspec": {
      "name": "python3",
      "display_name": "Python 3"
    },
    "language_info": {
      "name": "python"
    }
  },
  "cells": [
    {
      "cell_type": "markdown",
      "metadata": {
        "id": "view-in-github",
        "colab_type": "text"
      },
      "source": [
        "<a href=\"https://colab.research.google.com/github/deepakawl/teaching/blob/main/SunOil_solution.ipynb\" target=\"_parent\"><img src=\"https://colab.research.google.com/assets/colab-badge.svg\" alt=\"Open In Colab\"/></a>"
      ]
    },
    {
      "cell_type": "markdown",
      "source": [
        "# Sun Oil: Regional Facility Configuration"
      ],
      "metadata": {
        "id": "eWMocmUjlpEm"
      }
    },
    {
      "cell_type": "markdown",
      "source": [
        "SunOil, a global manufacturer of petrochemicals is considering several options to meet demand. One possibility is to set up a facility in each region. This would lower transportation costs and helps to avoid tariffs and duties, but foregoes benefits of the economies of scale. The table below contains annual demand, variable production and transportation cost (including tariffs), as well as the fixed cost of establishing a facility.\n",
        "\n",
        "How should SunOil plan its production network? Consider a possibility when an additional 50% tariff is imposed for importing goods from Asia to North America.\n",
        "\n",
        "| Supply Region | N. America | S. America | Europe | Asia | Africa |\n",
        "|---------------|------------|------------|--------|------|--------|\n",
        "| N. America    | 81         | 92         | 101    | 130  | 115    |\n",
        "| S. America    | 117        | 77         | 108    | 98   | 100    |\n",
        "| Europe        | 102        | 105        | 95     | 119  | 111    |\n",
        "| Asia          | 115        | 125        | 90     | 59   | 74     |\n",
        "| Africa        | 142        | 100        | 103    | 105  | 71     |\n",
        "| Demand        | 12         | 8          | 14     | 16   | 7      |"
      ],
      "metadata": {
        "id": "QN519G2FnVZ_"
      }
    },
    {
      "cell_type": "code",
      "source": [
        "tariff = 0          ### Add tariff in decimal format such as 0, 0.1."
      ],
      "metadata": {
        "id": "Mn8_gZdUemdX"
      },
      "execution_count": 10,
      "outputs": []
    },
    {
      "cell_type": "code",
      "execution_count": 17,
      "metadata": {
        "id": "AVeKmtpwefyk"
      },
      "outputs": [],
      "source": [
        "# Install and import packages\n",
        "#!pip install tabulate\n",
        "#!pip install gurobipy\n",
        "import numpy as np\n",
        "from gurobipy import Model, GRB, quicksum\n",
        "from tabulate import tabulate"
      ]
    },
    {
      "cell_type": "code",
      "source": [
        "### RAWDATA\n",
        "# Cost matrix\n",
        "cost_mat = np.array([[ 81,  92, 101, 130, 115],\n",
        "                     [117,  77, 108,  98, 100],\n",
        "                     [102, 105,  95, 119, 111],\n",
        "                     [115, 125,  90,  59,  74],\n",
        "                     [142, 100, 103, 105,  71]\n",
        "                    ])\n",
        "\n",
        "# Adjust the cost of import from Asia using tariff\n",
        "cost_mat[3,0] = cost_mat[3,0]*(1+tariff)\n",
        "\n",
        "# Demand in each location\n",
        "demand = np.array([12, 8, 14, 16, 7])\n",
        "\n",
        "# Capacity and Fixed costs for each supply line (low and high- capacity)\n",
        "lcap_fc = np.array([6000, 4500, 6500, 4100, 4000])\n",
        "q_lcap = np.array([10, 10, 10, 10, 10])\n",
        "\n",
        "hcap_fc = np.array([9000, 6750, 9750, 6150, 6000])\n",
        "q_hcap = np.array([20, 20, 20, 20, 20])"
      ],
      "metadata": {
        "id": "x0ASqWWTekIo"
      },
      "execution_count": 18,
      "outputs": []
    },
    {
      "cell_type": "code",
      "source": [
        "# identify number of supply and demand location for iterations\n",
        "n_supply = range(len(cost_mat))\n",
        "n_demand = range(len(cost_mat[0]))\n",
        "\n",
        "# Initial value of decision variables\n",
        "dec_qty = {(i, j): 0 for i in n_supply for j in n_demand}\n",
        "dec_lcap = {(i): 0 for i in n_supply}\n",
        "dec_hcap = {(i): 0 for i in n_supply}\n",
        "\n",
        "# Create a Gurobi model\n",
        "model = Model(\"MinimizeCost\")\n",
        "\n",
        "# Define decision variables, enforce integer type with lower bound = 0\n",
        "# There are three sets of decisions- 1) units to produce and transport from supply to demand location, 2) low capacity line 3) high capacity line at supply locations\n",
        "dec_qty = {(i, j): model.addVar(vtype=GRB.INTEGER, lb=0, name=f\"Quantity_{i}_{j}\") for i in n_supply for j in n_demand}\n",
        "dec_lcap = {(i): model.addVar(vtype=GRB.INTEGER, name=f\"Dec_Low_{i}\") for i in n_supply}\n",
        "dec_hcap = {(i): model.addVar(vtype=GRB.INTEGER, name=f\"Dec_High_{i}\") for i in n_supply}\n",
        "\n",
        "# Update the model\n",
        "model.update()\n",
        "\n",
        "# Set objective function - Total cost = Production & Transportation cost across network + Fixed cost of low cap line + fixed cost of high cap line\n",
        "model.setObjective(\n",
        "    quicksum(cost_mat[i, j] * dec_qty[i, j] for i in n_supply for j in n_demand) +\n",
        "    quicksum(lcap_fc[i] * dec_lcap[i] for i in n_supply) +\n",
        "    quicksum(hcap_fc[i] * dec_hcap[i] for i in n_supply),\n",
        "    GRB.MINIMIZE\n",
        ")\n",
        "\n",
        "# Excess Capacity constraints\n",
        "for i in n_supply:\n",
        "    model.addConstr(dec_lcap[i] * q_lcap[i] + dec_hcap[i] * q_hcap[i] - (sum(dec_qty[i, j] for j in n_demand)) >= 0, f\"Excess_Capacity_Constraints_{i}\")\n",
        "\n",
        "# Unmet demand constraints\n",
        "for j in n_demand:\n",
        "    model.addConstr(demand[j] - (sum(dec_qty[i, j] for i in n_supply)) <= 0, f\"Unmet_Demand_Constraints_{j}\")\n",
        "\n",
        "# Suppress optimization output\n",
        "model.Params.OutputFlag = 0\n",
        "\n",
        "# Optimize the model\n",
        "model.optimize()\n",
        "\n",
        "# Extract results to print as table\n",
        "op_qty  = [[dec_qty[i, j].x for j in n_demand] for i in n_supply]\n",
        "op_lcap = [dec_lcap[i].x for i in n_supply]\n",
        "op_hcap = [dec_hcap[i].x for i in n_supply]\n",
        "lowhigh = [dec_lcap[i].x + dec_hcap[i].x for i in n_supply]\n",
        "\n",
        "# Display results as a table\n",
        "src_loc = [\"N.America\", \"S.America\", \"Europe\", \"Asia\", \"Africa\"]\n",
        "headers = [\"N.America\"] + [\"S.America\"] + [\"Europe\"] + [\"Asia\"] + [\"Africa\"] + [\"Low\"] + [\"High\"] + [\"Total\"]\n",
        "table_data = [[src_loc[i]] + row + [op_lcap[i], op_hcap[i], lowhigh[i]] for i, row in enumerate(op_qty)]\n",
        "table = tabulate(table_data, headers=headers, tablefmt=\"grid\")\n",
        "\n",
        "print(table)\n",
        "print(f\"\\n@ Tariff = {tariff*100}%, Minimum Cost: $ {model.objVal}\")"
      ],
      "metadata": {
        "colab": {
          "base_uri": "https://localhost:8080/"
        },
        "id": "-VIxKBv4lmqw",
        "outputId": "d12cda06-6741-48ba-f5a6-d5427aa9ff73"
      },
      "execution_count": 26,
      "outputs": [
        {
          "output_type": "stream",
          "name": "stdout",
          "text": [
            "+-----------+-------------+-------------+----------+--------+----------+-------+--------+---------+\n",
            "|           |   N.America |   S.America |   Europe |   Asia |   Africa |   Low |   High |   Total |\n",
            "+===========+=============+=============+==========+========+==========+=======+========+=========+\n",
            "| N.America |          -0 |          -0 |       -0 |     -0 |       -0 |    -0 |     -0 |      -0 |\n",
            "+-----------+-------------+-------------+----------+--------+----------+-------+--------+---------+\n",
            "| S.America |          -0 |          -0 |       -0 |     -0 |       -0 |    -0 |     -0 |      -0 |\n",
            "+-----------+-------------+-------------+----------+--------+----------+-------+--------+---------+\n",
            "| Europe    |          -0 |          -0 |       -0 |     -0 |       -0 |    -0 |     -0 |      -0 |\n",
            "+-----------+-------------+-------------+----------+--------+----------+-------+--------+---------+\n",
            "| Asia      |          12 |           0 |       12 |     16 |        0 |    -0 |      2 |       2 |\n",
            "+-----------+-------------+-------------+----------+--------+----------+-------+--------+---------+\n",
            "| Africa    |          -0 |           8 |        2 |     -0 |        7 |    -0 |      1 |       1 |\n",
            "+-----------+-------------+-------------+----------+--------+----------+-------+--------+---------+\n",
            "\n",
            "@ Tariff = 0%, Minimum Cost: $ 23207.0\n"
          ]
        }
      ]
    }
  ]
}