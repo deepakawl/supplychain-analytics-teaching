{
  "nbformat": 4,
  "nbformat_minor": 0,
  "metadata": {
    "colab": {
      "provenance": [],
      "collapsed_sections": [
        "aCqqg646v6r6",
        "tjA5HR5M0PMr"
      ],
      "authorship_tag": "ABX9TyO2uVxaHfC5DBCM6uODQ8Ob",
      "include_colab_link": true
    },
    "kernelspec": {
      "name": "python3",
      "display_name": "Python 3"
    },
    "language_info": {
      "name": "python"
    }
  },
  "cells": [
    {
      "cell_type": "markdown",
      "metadata": {
        "id": "view-in-github",
        "colab_type": "text"
      },
      "source": [
        "<a href=\"https://colab.research.google.com/github/deepakawl/supplychain-analytics-teaching/blob/main/Biopharma_solution.ipynb\" target=\"_parent\"><img src=\"https://colab.research.google.com/assets/colab-badge.svg\" alt=\"Open In Colab\"/></a>"
      ]
    },
    {
      "cell_type": "markdown",
      "source": [
        "# Biopharma"
      ],
      "metadata": {
        "id": "eWMocmUjlpEm"
      }
    },
    {
      "cell_type": "markdown",
      "source": [
        "### Install and import packages"
      ],
      "metadata": {
        "id": "aCqqg646v6r6"
      }
    },
    {
      "cell_type": "code",
      "execution_count": 2,
      "metadata": {
        "id": "AVeKmtpwefyk",
        "colab": {
          "base_uri": "https://localhost:8080/"
        },
        "outputId": "c5036ae6-8e06-4f87-a4be-07a12fa6c7df"
      },
      "outputs": [
        {
          "output_type": "stream",
          "name": "stdout",
          "text": [
            "Collecting forex_python\n",
            "  Downloading forex_python-1.8-py3-none-any.whl (8.2 kB)\n",
            "Requirement already satisfied: requests in /usr/local/lib/python3.10/dist-packages (from forex_python) (2.31.0)\n",
            "Collecting simplejson (from forex_python)\n",
            "  Downloading simplejson-3.19.2-cp310-cp310-manylinux_2_5_x86_64.manylinux1_x86_64.manylinux_2_17_x86_64.manylinux2014_x86_64.whl (137 kB)\n",
            "\u001b[2K     \u001b[90m━━━━━━━━━━━━━━━━━━━━━━━━━━━━━━━━━━━━━━━━\u001b[0m \u001b[32m137.9/137.9 kB\u001b[0m \u001b[31m2.8 MB/s\u001b[0m eta \u001b[36m0:00:00\u001b[0m\n",
            "\u001b[?25hRequirement already satisfied: charset-normalizer<4,>=2 in /usr/local/lib/python3.10/dist-packages (from requests->forex_python) (3.3.2)\n",
            "Requirement already satisfied: idna<4,>=2.5 in /usr/local/lib/python3.10/dist-packages (from requests->forex_python) (3.6)\n",
            "Requirement already satisfied: urllib3<3,>=1.21.1 in /usr/local/lib/python3.10/dist-packages (from requests->forex_python) (2.0.7)\n",
            "Requirement already satisfied: certifi>=2017.4.17 in /usr/local/lib/python3.10/dist-packages (from requests->forex_python) (2023.11.17)\n",
            "Installing collected packages: simplejson, forex_python\n",
            "Successfully installed forex_python-1.8 simplejson-3.19.2\n",
            "Collecting gurobipy\n",
            "  Downloading gurobipy-11.0.0-cp310-cp310-manylinux2014_x86_64.manylinux_2_17_x86_64.whl (13.4 MB)\n",
            "\u001b[2K     \u001b[90m━━━━━━━━━━━━━━━━━━━━━━━━━━━━━━━━━━━━━━━━\u001b[0m \u001b[32m13.4/13.4 MB\u001b[0m \u001b[31m24.6 MB/s\u001b[0m eta \u001b[36m0:00:00\u001b[0m\n",
            "\u001b[?25hInstalling collected packages: gurobipy\n",
            "Successfully installed gurobipy-11.0.0\n",
            "Requirement already satisfied: tabulate in /usr/local/lib/python3.10/dist-packages (0.9.0)\n"
          ]
        }
      ],
      "source": [
        "%reset -f\n",
        "# Install and import packages\n",
        "# !pip install forex_python\n",
        "# !pip install gurobipy\n",
        "# !pip install tabulate\n",
        "\n",
        "import pandas as pd\n",
        "import numpy as np\n",
        "from gurobipy import Model, GRB, quicksum\n",
        "from tabulate import tabulate\n",
        "import datetime as dt\n",
        "from forex_python.converter import get_rate\n",
        "_empty_series = pd.Series(dtype=float)"
      ]
    },
    {
      "cell_type": "markdown",
      "source": [
        "### Raw Data"
      ],
      "metadata": {
        "id": "4A7JbN-Hv0Wg"
      }
    },
    {
      "cell_type": "code",
      "source": [
        "# selected_yr = 2023\n",
        "base_yr = 2019\n",
        "\n",
        "demand = pd.DataFrame({\n",
        "    'from': ['LatinAmerica', 'Europe', 'AsiaWoJapan', 'Japan', 'Mexico', 'U.S.'],\n",
        "    'd_h': [  7, 15,  5,  7,  3, 18],\n",
        "    'd_r': [  7, 12,  3,  8,  3, 17],\n",
        "})\n",
        "demand.set_index('from', inplace=True)\n",
        "\n",
        "caps = pd.DataFrame({\n",
        "    'plant': ['Brazil', 'Germany', 'India', 'Japan', 'Mexico', 'U.S.'],\n",
        "    'cap': [18, 45, 18, 10, 30, 22],\n",
        "})\n",
        "caps.set_index('plant', inplace=True)\n",
        "\n",
        "pcosts = pd.DataFrame({\n",
        "    'plant': ['Brazil', 'Germany', 'India', 'Japan', 'Mexico', 'U.S.'],\n",
        "    'fc_p': [20, 45, 14, 13, 30, 23],\n",
        "    'fc_h': [ 5, 13,  3,  4,  6,  5],\n",
        "    'fc_r': [ 5, 13,  3,  4,  6,  5],\n",
        "    'rm_h': [3.6, 3.9, 3.6, 3.9, 3.6, 3.6],\n",
        "    'pc_h': [5.1, 6.0, 4.5, 6.0, 5.0, 5.0],\n",
        "    'rm_r': [4.6, 5.0, 4.5, 5.1, 4.6, 4.5],\n",
        "    'pc_r': [6.6, 7.0, 6.0, 7.0, 6.5, 6.5],\n",
        "})\n",
        "pcosts.set_index('plant', inplace=True)\n",
        "\n",
        "tcosts = pd.DataFrame({\n",
        "    'from': ['Brazil', 'Germany', 'India', 'Japan', 'Mexico', 'U.S.'],\n",
        "    'LatinAmerica': [ 0.20, 0.45, 0.50, 0.50, 0.40, 0.45],\n",
        "    'Europe':       [ 0.45, 0.20, 0.35, 0.40, 0.30, 0.30],\n",
        "    'AsiaWoJapan':  [ 0.50, 0.35, 0.20, 0.30, 0.50, 0.45],\n",
        "    'Japan':        [ 0.50, 0.40, 0.30, 0.10, 0.45, 0.45],\n",
        "    'Mexico':       [ 0.40, 0.30, 0.50, 0.45, 0.20, 0.25],\n",
        "    'U.S.':           [ 0.45, 0.30, 0.45, 0.45, 0.25, 0.20],\n",
        "})\n",
        "tcosts.set_index('from', inplace=True)\n",
        "\n",
        "duties = pd.DataFrame({\n",
        "    'from': ['LatinAmerica', 'Europe', 'AsiaWoJapan', 'Japan', 'Mexico', 'U.S.'],\n",
        "    'duty': [ 0.30, 0.03, 0.27, 0.06, 0.35, 0.04],\n",
        "})\n",
        "duties.set_index('from', inplace=True)\n",
        "\n",
        "# Your provided exchange_rate_data\n",
        "exrate0 = {\n",
        "    '2018': [3.88, 4.33, 69.63, 109.91, 19.64, 1],\n",
        "    '2019': [4.33, 0.92, 71.48, 109.82, 18.65, 1],\n",
        "    '2020': [5.19, 0.82, 73.66, 103.24, 19.90, 1],\n",
        "    '2021': [5.26, 0.88, 74.28, 115.59, 20.62, 1],\n",
        "    '2022': [5.29, 0.93, 82.75, 131.12, 19.48, 1],\n",
        "    '2023': [4.85, 0.91, 83.04, 140.99, 16.96, 1],\n",
        "}\n",
        "exrate0 = pd.DataFrame(exrate0 , index=['BRL', 'EUR', 'INR', 'JPY', 'MXN', 'USD'])"
      ],
      "metadata": {
        "id": "x0ASqWWTekIo"
      },
      "execution_count": 23,
      "outputs": []
    },
    {
      "cell_type": "markdown",
      "source": [
        "# Extract Currency Exchange Rates"
      ],
      "metadata": {
        "id": "FAL0rW1azWD9"
      }
    },
    {
      "cell_type": "code",
      "source": [
        "def extract_exrate(base_yr, selected_yr):\n",
        "    currency_list = [\"BRL\", \"EUR\", \"INR\", \"JPY\", \"MXN\", \"USD\"]\n",
        "    years = [base_yr, selected_yr]\n",
        "\n",
        "    # # Create DataFrame to store exchange rates\n",
        "    exrate = pd.DataFrame(index=currency_list, columns=years)\n",
        "\n",
        "    # Populate DataFrame with exchange rates\n",
        "    for currency in currency_list:\n",
        "      for year in years:\n",
        "        last_day = dt.date(year, 12, 31)\n",
        "        exrate.at[currency, year] = round(get_rate(\"USD\", currency, last_day), 2)\n",
        "\n",
        "    del currency, currency_list, year, years, last_day\n",
        "    exrate.index = exrate.index.astype(str)\n",
        "    exrate.columns = exrate.columns.astype(str)\n",
        "\n",
        "    return exrate"
      ],
      "metadata": {
        "id": "miBcpTdrzRuj"
      },
      "execution_count": 24,
      "outputs": []
    },
    {
      "cell_type": "markdown",
      "source": [
        "# Minimize cost using Gurobi Binary and Integer optimizer"
      ],
      "metadata": {
        "id": "frM7khPFv_XZ"
      }
    },
    {
      "cell_type": "markdown",
      "source": [
        "## Functions to calculate cost, unmet demand, and excess capacity"
      ],
      "metadata": {
        "id": "tjA5HR5M0PMr"
      }
    },
    {
      "cell_type": "code",
      "source": [
        "# identify number of supply and demand location for iterations\n",
        "n_ctry = range(demand.shape[0])\n",
        "n_lines = range(demand.shape[1]+1)\n",
        "\n",
        "# Objective function to calculate cost\n",
        "def calc_total_cost(dec_plant, dec_h, dec_r, base_yr=2019, selected_yr=2023, tariff=0):\n",
        "    x_plant = np.array(list(dec_plant.values())).reshape(len(n_ctry), len(n_lines))\n",
        "    x_h = np.array(list(dec_h.values())).reshape(len(n_ctry), len(n_ctry))\n",
        "    x_r = np.array(list(dec_r.values())).reshape(len(n_ctry), len(n_ctry))\n",
        "\n",
        "    # Adjust the cost using exchange rate of give year\n",
        "    reindx = exrate.loc[:, f'{base_yr}'] / exrate.loc[:, f'{selected_yr}']\n",
        "\n",
        "    pcosts_rev = pcosts.values * reindx.values.reshape(-1,1)\n",
        "    pcosts_rev = pd.DataFrame(pcosts_rev, columns=pcosts.columns[0:], index=pcosts.index)\n",
        "    # return pcosts_rev\n",
        "    # pcosts_rev = adj_pcosts_exrate(2019, 2023)\n",
        "\n",
        "    duties_mat = np.zeros(len(duties)) + (1 + duties['duty'].values)[:, np.newaxis]\n",
        "    np.fill_diagonal(duties_mat, 1)\n",
        "    duties_mat = pd.DataFrame(duties_mat.T, index=pcosts_rev.index, columns=duties.index)\n",
        "    duties_mat.loc['Germany', 'U.S.'] += tariff\n",
        "    duties_mat.loc['U.S.', 'Europe']  += tariff\n",
        "\n",
        "    vcosts_h = tcosts.add(pcosts_rev['rm_h'], axis=0).add(pcosts_rev['pc_h'], axis=0) * duties_mat\n",
        "    vcosts_r = tcosts.add(pcosts_rev['rm_r'], axis=0).add(pcosts_rev['pc_r'], axis=0) * duties_mat\n",
        "\n",
        "    fc = pcosts_rev[['fc_p','fc_h','fc_r']].values\n",
        "    vh = (vcosts_h * x_h).values\n",
        "    vr = (vcosts_r * x_r).values\n",
        "    total_cost = sum(0.2 * fc[i,j] for i in n_ctry for j in n_lines) + sum(0.8 * fc[i,j] * x_plant[i,j] for i in n_ctry for j in n_lines) + sum(vh[i,j] for i in n_ctry for j in n_ctry) + sum(vr[i,j] for i in n_ctry for j in n_ctry)\n",
        "\n",
        "    return total_cost\n",
        "\n",
        "\n",
        "# Calculate excess capacity given decision variables\n",
        "def calc_excess_cap(dec_plant, dec_h, dec_r):\n",
        "    x_plant = np.array(list(dec_plant.values())).reshape(len(n_ctry), len(n_lines))\n",
        "    x_h = np.array(list(dec_h.values())).reshape(len(n_ctry), len(n_ctry))\n",
        "    x_r = np.array(list(dec_r.values())).reshape(len(n_ctry), len(n_ctry))\n",
        "\n",
        "    excess_cap = (x_plant * caps.values).copy()\n",
        "    excess_cap[:, 0] -= (np.sum(x_h, axis=1) + np.sum(x_r, axis=1))\n",
        "    excess_cap[:, 1] -= np.sum(x_h, axis=1)\n",
        "    excess_cap[:, 2] -= np.sum(x_r, axis=1)\n",
        "    return excess_cap\n",
        "\n",
        "# Calculate unmet demand given decision variables\n",
        "def calc_unmet_demand(dec_h, dec_r):\n",
        "    x_h = np.array(list(dec_h.values())).reshape(len(n_ctry), len(n_ctry))\n",
        "    x_r = np.array(list(dec_r.values())).reshape(len(n_ctry), len(n_ctry))\n",
        "\n",
        "    x_h_sum = np.sum(x_h, axis=0)\n",
        "    x_r_sum = np.sum(x_r, axis=0)\n",
        "    unmet_demand = (demand.values).copy()\n",
        "    unmet_demand = np.column_stack((x_h_sum - unmet_demand[:, 0], x_r_sum - unmet_demand[:, 1]))\n",
        "\n",
        "    return unmet_demand\n"
      ],
      "metadata": {
        "id": "-VIxKBv4lmqw"
      },
      "execution_count": 25,
      "outputs": []
    },
    {
      "cell_type": "markdown",
      "source": [
        "## Gurobi optimizer"
      ],
      "metadata": {
        "id": "SABu77ky0YEh"
      }
    },
    {
      "cell_type": "code",
      "source": [
        "# Prompt the user to enter the year\n",
        "while True:\n",
        "    try:\n",
        "        selected_yr = int(input(\"Enter year (as yyyy, 2023): \"))\n",
        "        if 1995 <= selected_yr <= 2023:\n",
        "          if 2018 <= selected_yr <= 2023:\n",
        "            exrate = exrate0.copy()\n",
        "          else:\n",
        "            print(\"Extracting exchange rate from the web. Please hold.\")\n",
        "            exrate = extract_exrate(base_yr, selected_yr)\n",
        "          break  # Break the loop if the input is valid\n",
        "        else:\n",
        "            print(\"Invalid input. Please enter a year between 1995 and 2023.\")\n",
        "    except ValueError:\n",
        "        print(\"Invalid input. Please enter a valid year in number (yyyy).\")\n",
        "\n",
        "\n",
        "while True:\n",
        "    try:\n",
        "        tariff = float(input(\"Enter tariff (in percent, e.g. 10 for 10%): \"))\n",
        "        if 0 <= tariff <= 1000:\n",
        "          tariff = tariff/100\n",
        "          break  # Break the loop if the input is valid\n",
        "        else:\n",
        "            print(\"Invalid input. Please enter a valid number between 0 and 1000.\")\n",
        "    except ValueError:\n",
        "        print(\"Invalid input. Please enter a valid number.\")\n",
        "\n",
        "\n",
        "# Create a Gurobi model\n",
        "model = Model(\"MinimizeCost\")\n",
        "\n",
        "# Assign initial value of decision variables\n",
        "dec_plant = {(i, j): 1 for i in n_ctry for j in n_lines}\n",
        "dec_h     = {(i, j): 1 for i in n_ctry for j in n_ctry}\n",
        "dec_r     = {(i, j): 1 for i in n_ctry for j in n_ctry}\n",
        "\n",
        "# Define decision variables\n",
        "dec_plant = {(i, j): model.addVar(vtype=GRB.BINARY, name=f\"Dec_plant_{i}_{j}\")    for i in n_ctry for j in n_lines}\n",
        "dec_h     = {(i, j): model.addVar(vtype=GRB.INTEGER, lb=0, name=f\"Dec_h_{i}_{j}\") for i in n_ctry for j in n_ctry}\n",
        "dec_r     = {(i, j): model.addVar(vtype=GRB.INTEGER, lb=0, name=f\"Dec_r_{i}_{j}\") for i in n_ctry for j in n_ctry}\n",
        "\n",
        "# Excess Capacity constraints\n",
        "excess_cap = calc_excess_cap(dec_plant, dec_h, dec_r)\n",
        "for i in n_ctry:\n",
        "    for j in n_lines:\n",
        "        model.addConstr(excess_cap[i, j] >= 0, name=f\"Excess_Cap_Constraints_{i}_{j}\")\n",
        "\n",
        "\n",
        "# Unmet demand constraints\n",
        "unnmet_demand = calc_unmet_demand(dec_h, dec_r)\n",
        "for i in n_ctry:\n",
        "    for j in range(2):\n",
        "        model.addConstr(unnmet_demand[i,j] == 0, name=f\"Unmet_Demand_Constraints_{i}_{j}\")\n",
        "\n",
        "\n",
        "# Update the model\n",
        "model.update()\n",
        "\n",
        "# Set objective function - Total cost = Fixed cost + Variable costs of Highcal and Relax lines\n",
        "model.setObjective(calc_total_cost(dec_plant, dec_h, dec_r, base_yr, selected_yr, tariff), GRB.MINIMIZE)\n",
        "\n",
        "# Suppress optimization output\n",
        "model.Params.OutputFlag = 0\n",
        "\n",
        "# Optimize the model\n",
        "model.optimize()\n",
        "\n",
        "# Extract results to print as table\n",
        "op_plant = pd.DataFrame([[dec_plant[i, j].x for j in n_lines] for i in n_ctry], columns = ['Plant','H','R'], index=caps.index)\n",
        "op_h     = pd.DataFrame([[dec_h[i, j].x for j in n_ctry] for i in n_ctry], columns = tcosts.columns, index=tcosts.index)\n",
        "op_r     = pd.DataFrame([[dec_r[i, j].x for j in n_ctry] for i in n_ctry], columns = tcosts.columns, index=tcosts.index)\n",
        "\n",
        "\n",
        "print(\"\\nHighCal Flow\\n\")\n",
        "print(tabulate(op_h, headers='keys', tablefmt='pretty'))\n",
        "print(\"\\nRelax Flow\\n\")\n",
        "print(tabulate(op_r, headers='keys', tablefmt='pretty'))\n",
        "print(\"\\nStrategy\\n\")\n",
        "print(tabulate(op_plant, headers='keys', tablefmt='pretty'))\n",
        "print(f\"\\nMinimum Cost: $ {round(model.objVal,2)} in year {selected_yr} at Tariff {(tariff*100)}\")"
      ],
      "metadata": {
        "colab": {
          "base_uri": "https://localhost:8080/"
        },
        "id": "vk94LgLq0ana",
        "outputId": "acefdd2e-e3e5-4510-9f3b-c9cd64f86645"
      },
      "execution_count": 27,
      "outputs": [
        {
          "output_type": "stream",
          "name": "stdout",
          "text": [
            "Enter year (as yyyy, 2023): 2025\n",
            "Invalid input. Please enter a year between 1995 and 2023.\n",
            "Enter year (as yyyy, 2023): 1950\n",
            "Invalid input. Please enter a year between 1995 and 2023.\n",
            "Enter year (as yyyy, 2023): 1313.\n",
            "Invalid input. Please enter a valid year in number (yyyy).\n",
            "Enter year (as yyyy, 2023): 2015\n",
            "Enter tariff (in percent, e.g. 10 for 10%): 0.1\n",
            "\n",
            "HighCal Flow\n",
            "\n",
            "+---------+--------------+--------+-------------+-------+--------+------+\n",
            "|  from   | LatinAmerica | Europe | AsiaWoJapan | Japan | Mexico | U.S. |\n",
            "+---------+--------------+--------+-------------+-------+--------+------+\n",
            "| Brazil  |     7.0      |  4.0   |    -0.0     | -0.0  |  -0.0  | -0.0 |\n",
            "| Germany |     -0.0     |  -0.0  |    -0.0     | -0.0  |  -0.0  | -0.0 |\n",
            "|  India  |     -0.0     |  10.0  |     5.0     |  0.0  |  -0.0  | -0.0 |\n",
            "|  Japan  |     -0.0     |  0.0   |    -0.0     |  7.0  |  -0.0  | -0.0 |\n",
            "| Mexico  |     -0.0     |  -0.0  |    -0.0     | -0.0  |  -0.0  | -0.0 |\n",
            "|  U.S.   |     -0.0     |  1.0   |    -0.0     | -0.0  |  3.0   | 18.0 |\n",
            "+---------+--------------+--------+-------------+-------+--------+------+\n",
            "\n",
            "Relax Flow\n",
            "\n",
            "+---------+--------------+--------+-------------+-------+--------+------+\n",
            "|  from   | LatinAmerica | Europe | AsiaWoJapan | Japan | Mexico | U.S. |\n",
            "+---------+--------------+--------+-------------+-------+--------+------+\n",
            "| Brazil  |     7.0      |  -0.0  |    -0.0     | -0.0  |  -0.0  | -0.0 |\n",
            "| Germany |     -0.0     |  12.0  |    -0.0     |  5.0  |  3.0   | 17.0 |\n",
            "|  India  |     -0.0     |  -0.0  |     3.0     | -0.0  |  -0.0  | -0.0 |\n",
            "|  Japan  |     -0.0     |  -0.0  |    -0.0     |  3.0  |  -0.0  | -0.0 |\n",
            "| Mexico  |     -0.0     |  -0.0  |    -0.0     | -0.0  |  -0.0  | -0.0 |\n",
            "|  U.S.   |     -0.0     |  -0.0  |    -0.0     | -0.0  |  -0.0  | -0.0 |\n",
            "+---------+--------------+--------+-------------+-------+--------+------+\n",
            "\n",
            "Strategy\n",
            "\n",
            "+---------+-------+------+------+\n",
            "|  plant  | Plant |  H   |  R   |\n",
            "+---------+-------+------+------+\n",
            "| Brazil  |  1.0  | 1.0  | 1.0  |\n",
            "| Germany |  1.0  | -0.0 | 1.0  |\n",
            "|  India  |  1.0  | 1.0  | 1.0  |\n",
            "|  Japan  |  1.0  | 1.0  | 1.0  |\n",
            "| Mexico  | -0.0  | -0.0 | -0.0 |\n",
            "|  U.S.   |  1.0  | 1.0  | -0.0 |\n",
            "+---------+-------+------+------+\n",
            "\n",
            "Minimum Cost: $ 1287.07 in year 2015 at Tariff 0.1\n"
          ]
        }
      ]
    },
    {
      "cell_type": "markdown",
      "source": [
        "### Store result into csv file"
      ],
      "metadata": {
        "id": "Eu6279x30nDA"
      }
    },
    {
      "cell_type": "code",
      "source": [
        "op_df = op_plant.iloc[:, 1:]\n",
        "op_df = op_df.stack().reset_index().rename(columns={'level_0': 'index_name', 'level_1': 'suffix', 0: 'value'})\n",
        "op_df['column_name'] = op_df['plant'] + '-' + op_df['suffix']\n",
        "op_df = op_df[['column_name', 'value']].set_index('column_name').T.reset_index(drop=True)\n",
        "op_df['Year'] = selected_yr\n",
        "op_df['Cost'] = round(model.objVal,2)\n",
        "op_df['Tariff'] = tariff*100\n",
        "\n",
        "op_df.to_csv(f'Output_{selected_yr}_T{int(tariff*100)}.csv', index=False)\n",
        "print(\"Results are saved in op_df file\")"
      ],
      "metadata": {
        "id": "zHbR3JQP0meu"
      },
      "execution_count": null,
      "outputs": []
    }
  ]
}